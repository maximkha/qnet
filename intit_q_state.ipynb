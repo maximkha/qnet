{
 "cells": [
  {
   "cell_type": "code",
   "execution_count": 16,
   "source": [
    "from qiskit import QuantumCircuit, transpile\r\n",
    "import numpy as np\r\n",
    "from numpy.linalg import norm\r\n",
    "# from ibm_quantum_widgets import CircuitComposer"
   ],
   "outputs": [],
   "metadata": {}
  },
  {
   "cell_type": "code",
   "execution_count": 18,
   "source": [
    "# state_vec = np.array([[0,1,0,1],[1,0,0,1],[0,0,0,1],[1,1,0,1]], dtype=complex)\r\n",
    "# state_vec = np.array([v/norm(v) for v in state_vec], dtype=complex)\r\n",
    "\r\n",
    "state_vec = np.array([[.5,.5,0,1],[1,0,0,1],[0,0,0,1],[1,1,0,1]], dtype=complex)\r\n",
    "state_vec = np.array([v/norm(v) for v in state_vec], dtype=complex)"
   ],
   "outputs": [],
   "metadata": {}
  },
  {
   "cell_type": "code",
   "execution_count": 19,
   "source": [
    "circuit = QuantumCircuit(2)\r\n",
    "circuit.initialize(state_vec[0])\r\n",
    "circuit = transpile(circuit, basis_gates=[\"u3\",\"u2\",\"u1\",\"cx\",\"id\",\"u0\",\"u\",\"p\",\"x\",\"y\",\"z\",\"h\",\"s\",\"sdg\",\"t\",\"tdg\",\"rx\",\"ry\",\"rz\",\"sx\",\"sxdg\",\"cz\",\"cy\",\"swap\",\"ch\",\"ccx\",\"cswap\",\"crx\",\"cry\",\"crz\",\"cu1\",\"cp\",\"cu3\",\"csx\",\"cu\",\"rxx\",\"rzz\",\"rccx\",\"rc3x\",\"c3x\",\"c3sqrtx\",\"c4x\"])\r\n",
    "# editor = CircuitComposer(circuit=circuit)\r\n",
    "# editor"
   ],
   "outputs": [],
   "metadata": {}
  },
  {
   "cell_type": "code",
   "execution_count": 20,
   "source": [
    "circuit.qasm(formatted=True)"
   ],
   "outputs": [
    {
     "output_type": "stream",
     "name": "stdout",
     "text": [
      "\u001b[92mOPENQASM\u001b[39m \u001b[96m2\u001b[39m.\u001b[96m0\u001b[39m;\n",
      "\u001b[92minclude\u001b[39m\u001b[91m \"qelib1.inc\"\u001b[39m;\n",
      "\u001b[92mqreg\u001b[39m q[\u001b[96m2\u001b[39m];\n",
      "\u001b[95mry\u001b[39m(pi) q[\u001b[96m0\u001b[39m];\n",
      "\u001b[95mry\u001b[39m(\u001b[96m2\u001b[39m\u001b[96m.2142974\u001b[39m) q[\u001b[96m1\u001b[39m];\n",
      "\n"
     ]
    }
   ],
   "metadata": {}
  },
  {
   "cell_type": "code",
   "execution_count": null,
   "source": [],
   "outputs": [],
   "metadata": {}
  }
 ],
 "metadata": {
  "orig_nbformat": 4,
  "language_info": {
   "name": "python",
   "version": "3.8.5",
   "mimetype": "text/x-python",
   "codemirror_mode": {
    "name": "ipython",
    "version": 3
   },
   "pygments_lexer": "ipython3",
   "nbconvert_exporter": "python",
   "file_extension": ".py"
  },
  "kernelspec": {
   "name": "python3",
   "display_name": "Python 3.8.5 64-bit"
  },
  "interpreter": {
   "hash": "c4a6cc1c2df5ddd62d6925b2a7bdee9abacf912eab37272999970e810b9642fd"
  }
 },
 "nbformat": 4,
 "nbformat_minor": 2
}